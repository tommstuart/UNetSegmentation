{
 "cells": [
  {
   "cell_type": "code",
   "execution_count": null,
   "metadata": {},
   "outputs": [],
   "source": [
    "%load_ext autoreload\n",
    "%autoreload 2\n",
    "import Networks\n",
    "from Networks.UNet3D import UNet3D\n",
    "from Networks.UNet2D import UNet\n",
    "from Networks.UNet2D_Attention import UNet2D_Attention\n",
    "from Networks.UNet2D_Double_Blocks import UNet2D_Double_Blocks \n",
    "from Networks.UNet2D_Upsample import UNet2D_Upsample\n",
    "from Networks.NestedUNet import NestedUNet\n",
    "from LossFunctions import dice_loss\n",
    "from Tester import predict\n",
    "from DataHandler import getSplitData\n",
    "from DataHandler import getTestingData\n",
    "from DataHandler import numpy_dataset\n",
    "from Trainer import Trainer\n",
    "from torch.utils.data import DataLoader\n",
    "import torch\n",
    "\n"
   ]
  },
  {
   "cell_type": "code",
   "execution_count": null,
   "metadata": {},
   "outputs": [],
   "source": [
    "X_train, X_val, X_test, y_train, y_val, y_test = getSplitData([\"Guys\",\"HH\"], dimensions = 2)"
   ]
  },
  {
   "cell_type": "code",
   "execution_count": null,
   "metadata": {},
   "outputs": [],
   "source": [
    "#This is used to train a single model \n",
    "torch.cuda.empty_cache()\n",
    "device = torch.device(\"cuda\" if torch.cuda.is_available() else \"cpu\")\n",
    "net = UNet(in_channels=1, init_features=20, out_channels=5).to(device)\n",
    "\n",
    "loss = dice_loss()\n",
    "optim = torch.optim.Adam(net.parameters(), lr = 0.0005)\n",
    "trainer = Trainer(net, loss, optim)\n",
    "\n",
    "train_dataset = numpy_dataset(X_train, y_train)\n",
    "val_dataset = numpy_dataset(X_val, y_val) \n",
    "train_dataloader = DataLoader(train_dataset, batch_size = 32, shuffle=True, drop_last = True)\n",
    "val_dataloader = DataLoader(val_dataset, batch_size = 32, shuffle = False, drop_last = True)\n",
    "net = trainer.do_training(train_dataloader, val_dataloader, max_epochs = 30)\n"
   ]
  },
  {
   "cell_type": "code",
   "execution_count": null,
   "metadata": {},
   "outputs": [],
   "source": [
    "# load data as necessary\n",
    "# test_dataset = numpy_dataset(X_test, y_test)\n",
    "# test_dataloader = DataLoader(test_dataset)\n",
    "# print(X_test.shape)\n",
    "# # pred,true = predict(net,test_dataloader)\n",
    "\n",
    "# print(pred.shape) \n",
    "\n",
    "X_IOP, y_IOP = getTestingData([\"IOP\"], dimensions = 3)\n",
    "iop_dataset = numpy_dataset(X_IOP, y_IOP)\n",
    "iop_dataloader = DataLoader(iop_dataset)\n",
    "# pred_IOP, true_IOP = predict(net, iop_dataloader)\n",
    "# print(pred_IOP.shape)\n",
    "\n"
   ]
  },
  {
   "cell_type": "code",
   "execution_count": null,
   "metadata": {},
   "outputs": [],
   "source": [
    "# test using dice scores\n",
    "from EvaluationMetrics import dice_score\n",
    "#Using 2D \n",
    "print(\"pred/true dice scores.\")\n",
    "x = dice_score(pred,true)\n",
    "print(\"iop pred/true dice scores:\")\n",
    "y = dice_score(pred_IOP, true_IOP)"
   ]
  },
  {
   "cell_type": "code",
   "execution_count": null,
   "metadata": {},
   "outputs": [],
   "source": [
    "#This block is used for a grid search\n",
    "feature_sizes = [64]\n",
    "batch_sizes = [32,64] \n",
    "\n",
    "device = torch.device(\"cuda\" if torch.cuda.is_available() else \"cpu\")\n",
    "for batch_size in batch_sizes:\n",
    "    for feature_size in feature_sizes:\n",
    "        print(\"Testing feature_size: \", feature_size, \" and batch_size: \", batch_size)\n",
    "        torch.cuda.empty_cache()\n",
    "        X_train, X_val, X_test, y_train, y_val, y_test = getSplitData([\"HH\",\"Guys\"], dimensions = 2)\n",
    "\n",
    "        net = UNet(in_channels=1, init_features=feature_size, out_channels=5).to(device)\n",
    "        loss = dice_loss()\n",
    "        optim = torch.optim.Adam(net.parameters(), lr = 0.0005)\n",
    "        trainer = Trainer(net, loss, optim)\n",
    "        #train_dataloader, val_dataloader, max_epochs\n",
    "\n",
    "        train_dataset = numpy_dataset(X_train, y_train)\n",
    "        val_dataset = numpy_dataset(X_val, y_val) \n",
    "        train_dataloader = DataLoader(train_dataset, batch_size = batch_size, shuffle=True, drop_last = True)\n",
    "        val_dataloader = DataLoader(val_dataset, batch_size = batch_size, shuffle = False, drop_last = True)\n",
    "        net = trainer.do_training(train_dataloader, val_dataloader, max_epochs = 45)\n",
    "\n",
    "        torch.save(net, \"unetsimple3depth experiment f_size \" + str(feature_size) + \" b_Size \" + str(batch_size) + \".pt\")\n",
    "\n",
    "        test_dataset = numpy_dataset(X_test, y_test)\n",
    "        test_dataloader = DataLoader(test_dataset)\n",
    "        print(X_test.shape)\n",
    "        pred,true = predict(net,test_dataloader)\n",
    "\n",
    "\n",
    "        X_IOP, y_IOP = getTestingData([\"IOP\"], dimensions = 2)\n",
    "        iop_dataset = numpy_dataset(X_IOP, y_IOP)\n",
    "        iop_dataloader = DataLoader(iop_dataset)\n",
    "        pred_IOP, true_IOP = predict(net, iop_dataloader)\n",
    "\n",
    "        from EvaluationMetrics import dice_score\n",
    "        #Using 2D \n",
    "        print(\"pred/true dice scores.\")\n",
    "        x = dice_score(pred,true)\n",
    "        print(\"iop pred/true dice scores:\")\n",
    "        y = dice_score(pred_IOP, true_IOP)\n",
    "\n",
    "\n",
    "\n"
   ]
  },
  {
   "cell_type": "code",
   "execution_count": null,
   "metadata": {},
   "outputs": [],
   "source": [
    "# Used to test for outliers\n",
    "from EvaluationMetrics import dice_score\n",
    "import matplotlib.pyplot as plt \n",
    "import numpy as np \n",
    "def outlierTest(pred,true, threshold):\n",
    "    scores = []\n",
    "    for i in range(len(pred)):\n",
    "        score = np.mean(dice_score(pred[i], true[i], verbose = False))\n",
    "        scores.append(score)\n",
    "        if (score < threshold):\n",
    "            print(i)\n",
    "    plt.plot(scores)\n",
    "    plt.xlabel(\"Average dice score\")\n",
    "    plt.show()\n",
    "# print(\"2D Test\")\n",
    "# outlierTest(pred_2D, true_2D, threshold = 0.5)\n",
    "# print(\"3D Test\")\n",
    "# # outlierTest(pred_3D, true_3D, threshold = 0.5)"
   ]
  },
  {
   "cell_type": "code",
   "execution_count": null,
   "metadata": {},
   "outputs": [],
   "source": [
    "net_3d = torch.load('unet3d_softmax.pt')\n",
    "net_3d.eval()\n",
    "X, y = getTestingData([\"HH\",\"Guys\",\"IOP\"])\n",
    "all_dataset= numpy_dataset(X,y)\n",
    "all_dataloader = DataLoader(all_dataset,batch_size = 40, shuffle=False, drop_last = True) \n",
    "\n",
    "pred, true = predict(net_3d, all_dataloader)\n",
    "print(pred.shape)\n",
    "print(true.shape)\n",
    "# outlierTest(pred, true)\n",
    "# print(pred_IOP.shape)"
   ]
  },
  {
   "cell_type": "code",
   "execution_count": null,
   "metadata": {},
   "outputs": [],
   "source": [
    "# Used for qualitative visualisation\n",
    "for i in range(40):\n",
    "    plt.imshow(pred[544][i])\n",
    "    plt.show()\n",
    "    plt.imshow(true[544][i])\n",
    "    plt.show()\n",
    "    plt.imshow(X[544][0][i])\n",
    "    plt.show()\n"
   ]
  }
 ],
 "metadata": {
  "kernelspec": {
   "display_name": "Python 3.11.2 64-bit",
   "language": "python",
   "name": "python3"
  },
  "language_info": {
   "codemirror_mode": {
    "name": "ipython",
    "version": 3
   },
   "file_extension": ".py",
   "mimetype": "text/x-python",
   "name": "python",
   "nbconvert_exporter": "python",
   "pygments_lexer": "ipython3",
   "version": "3.11.2"
  },
  "orig_nbformat": 4,
  "vscode": {
   "interpreter": {
    "hash": "cb6416ccb7cf3862052581a5888563209785f6bca63738835247a0de3829cc25"
   }
  }
 },
 "nbformat": 4,
 "nbformat_minor": 2
}
